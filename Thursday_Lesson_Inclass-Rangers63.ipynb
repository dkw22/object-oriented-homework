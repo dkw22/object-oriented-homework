{
 "cells": [
  {
   "cell_type": "markdown",
   "metadata": {},
   "source": [
    "# Object-Oriented-Programming (OOP)"
   ]
  },
  {
   "cell_type": "markdown",
   "metadata": {},
   "source": [
    "## Tasks Today:\n",
    "\n",
    "   \n",
    "\n",
    "&check; <b>Creating a Class (Initializing/Declaring)</b> <br>\n",
    "&check; <b>Using a Class (Instantiating)</b> <br>\n",
    " &nbsp;&nbsp;&nbsp;&nbsp; &check; Creating One Instance <br>\n",
    " &nbsp;&nbsp;&nbsp;&nbsp; &check; Creating Multiple Instances <br>\n",
    " &nbsp;&nbsp;&nbsp;&nbsp; &check; In-Class Exercise #1 - Create a Class 'Car' and instantiate three different makes of cars <br>\n",
    "&check; <b>The \\__init\\__() Method</b> <br>\n",
    " &nbsp;&nbsp;&nbsp;&nbsp; &check; The 'self' Attribute <br>\n",
    "&check; <b>Class Attributes</b> <br>\n",
    " &nbsp;&nbsp;&nbsp;&nbsp; &check; Initializing Attributes <br>\n",
    " &nbsp;&nbsp;&nbsp;&nbsp; &check; Setting an Attribute Outside of the \\__init\\__() Method <br>\n",
    " &nbsp;&nbsp;&nbsp;&nbsp; &check; Setting Defaults for Attributes <br>\n",
    " &nbsp;&nbsp;&nbsp;&nbsp; &check; Accessing Class Attributes <br>\n",
    " &nbsp;&nbsp;&nbsp;&nbsp; &check; Changing Class Attributes <br>\n",
    " &nbsp;&nbsp;&nbsp;&nbsp; &check; In-Class Exercise #2 - Add a color and wheels attribute to your 'Car' class <br>\n",
    "&check; <b>Class Methods</b> <br>\n",
    " &nbsp;&nbsp;&nbsp;&nbsp; &check; Creating <br>\n",
    " &nbsp;&nbsp;&nbsp;&nbsp; &check; Calling <br>\n",
    " &nbsp;&nbsp;&nbsp;&nbsp; &check; Modifying an Attribute's Value Through a Method <br>\n",
    " &nbsp;&nbsp;&nbsp;&nbsp; &check; Incrementing an Attribute's Value Through a Method <br>\n",
    " &nbsp;&nbsp;&nbsp;&nbsp; &check; In-Class Exercise #3 - Add a method that prints the cars color and wheel number, then call them <br>\n",
    "6) <b>Inheritance</b> <br>\n",
    " &nbsp;&nbsp;&nbsp;&nbsp; a) Syntax for Inheriting from a Parent Class <br>\n",
    " &nbsp;&nbsp;&nbsp;&nbsp; b) The \\__init\\__() Method for a Child Class (super()) <br>\n",
    " &nbsp;&nbsp;&nbsp;&nbsp; c) Defining Attributes and Methods for the Child Class <br>\n",
    " &nbsp;&nbsp;&nbsp;&nbsp; d) Method Overriding <br>\n",
    " &nbsp;&nbsp;&nbsp;&nbsp; e) In-Class Exercise #4 - Create a class 'Ford' that inherits from 'Car' class and initialize it as a Blue Ford Explorer with 4 wheels using the super() method <br>\n",
    "7) <b>Classes as Attributes</b> <br>\n",
    "8) <b>Exercises</b> <br>\n",
    " &nbsp;&nbsp;&nbsp;&nbsp; a) Exercise #1 - Turn the shopping cart program from yesterday into an object-oriented program <br>"
   ]
  },
  {
   "cell_type": "markdown",
   "metadata": {},
   "source": [
    "## Creating a Class (Initializing/Declaring)\n",
    "<p>When creating a class, function, or even a variable you are initializing that object. Initializing and Declaring occur at the same time in Python, whereas in lower level languages you have to declare an object before initializing it. This is the first step in the process of using a class.</p>"
   ]
  },
  {
   "cell_type": "code",
   "execution_count": 1,
   "metadata": {},
   "outputs": [],
   "source": [
    "class Car():\n",
    "    wheels = 4\n",
    "    color = 'blue'"
   ]
  },
  {
   "cell_type": "markdown",
   "metadata": {},
   "source": [
    "## Using a Class (Instantiating)\n",
    "<p>The process of creating a class is called <i>Instantiating</i>. Each time you create a variable of that type of class, it is referred to as an <i>Instance</i> of that class. This is the second step in the process of using a class.</p>"
   ]
  },
  {
   "cell_type": "markdown",
   "metadata": {},
   "source": [
    "##### Creating One Instance"
   ]
  },
  {
   "cell_type": "code",
   "execution_count": 2,
   "metadata": {},
   "outputs": [
    {
     "name": "stdout",
     "output_type": "stream",
     "text": [
      "blue\n"
     ]
    }
   ],
   "source": [
    "ford = Car()\n",
    "print(ford.color)"
   ]
  },
  {
   "cell_type": "markdown",
   "metadata": {},
   "source": [
    "##### Creating Multiple Instances"
   ]
  },
  {
   "cell_type": "code",
   "execution_count": 4,
   "metadata": {},
   "outputs": [
    {
     "name": "stdout",
     "output_type": "stream",
     "text": [
      "<class '__main__.Car'>\n"
     ]
    }
   ],
   "source": [
    "honda = Car()\n",
    "chevy = Car()\n",
    "porsche = Car()\n",
    "\n",
    "print(type(porsche))"
   ]
  },
  {
   "cell_type": "markdown",
   "metadata": {},
   "source": [
    "##### In-Class Exercise #1 - Create a Class 'Car' and Instantiate three different makes of cars"
   ]
  },
  {
   "cell_type": "code",
   "execution_count": 6,
   "metadata": {},
   "outputs": [
    {
     "name": "stdout",
     "output_type": "stream",
     "text": [
      "4\n",
      "4\n",
      "purple\n"
     ]
    }
   ],
   "source": [
    "class Car2():\n",
    "    wheels = 4\n",
    "    color = 'purple'\n",
    "ford = Car2()\n",
    "chevy = Car2()\n",
    "honda = Car2()\n",
    "\n",
    "print(ford.wheels)\n",
    "print(chevy.wheels)\n",
    "print(honda.color)"
   ]
  },
  {
   "cell_type": "markdown",
   "metadata": {},
   "source": [
    "## The \\__init\\__() Method <br>\n",
    "<p>This method is used in almost every created class, and called only once upon the creation of the class instance. This method will initialize all variables needed for the object.</p>"
   ]
  },
  {
   "cell_type": "code",
   "execution_count": 7,
   "metadata": {},
   "outputs": [
    {
     "name": "stdout",
     "output_type": "stream",
     "text": [
      "8\n",
      "purple\n"
     ]
    }
   ],
   "source": [
    "class Car():\n",
    "    engine = '4.7L' #constant-attribute\n",
    "    def __init__(self, wheels, color):\n",
    "        self.wheels = wheels\n",
    "        self.color = color\n",
    "\n",
    "chevy = Car(4,\"purple\")\n",
    "ford = Car(8, \"red\")\n",
    "\n",
    "print(ford.wheels)\n",
    "print(chevy.color)"
   ]
  },
  {
   "cell_type": "markdown",
   "metadata": {},
   "source": [
    "##### The 'self' Attribute <br>\n",
    "<p>This attribute is required to keep track of specific instance's attributes. Without the self attribute, the program would not know how to reference or keep track of an instance's attributes.</p>"
   ]
  },
  {
   "cell_type": "code",
   "execution_count": null,
   "metadata": {},
   "outputs": [],
   "source": [
    "# see above"
   ]
  },
  {
   "cell_type": "markdown",
   "metadata": {},
   "source": [
    "## Class Attributes <br>\n",
    "<p>While variables are inside of a class, they are referred to as attributes and not variables. When someone says 'attribute' you know they're speaking about a class. Attributes can be initialized through the init method, or outside of it.</p>"
   ]
  },
  {
   "cell_type": "markdown",
   "metadata": {},
   "source": [
    "##### Initializing Attributes"
   ]
  },
  {
   "cell_type": "code",
   "execution_count": 9,
   "metadata": {},
   "outputs": [],
   "source": [
    "# see above\n",
    "class Toy():\n",
    "    kind = \"car\" #doesnt change frequently\n",
    "    def __init__(self, color, cool_factor, decal):\n",
    "        self.color = color\n",
    "        self.cool_factor = cool_factor\n",
    "        self.decal = decal\n",
    "\n",
    "tanka_truck = Toy('yellow', 6, 'racing stripes')\n",
    "hotwheels_car = Toy('red', 10, 'flames')"
   ]
  },
  {
   "cell_type": "markdown",
   "metadata": {},
   "source": [
    "##### Accessing Class Attributes"
   ]
  },
  {
   "cell_type": "code",
   "execution_count": 10,
   "metadata": {
    "scrolled": true
   },
   "outputs": [
    {
     "name": "stdout",
     "output_type": "stream",
     "text": [
      "racing stripes\n"
     ]
    }
   ],
   "source": [
    "# See Above\n",
    "print(tanka_truck.decal)"
   ]
  },
  {
   "cell_type": "markdown",
   "metadata": {},
   "source": [
    "##### Setting Defaults for Attributes"
   ]
  },
  {
   "cell_type": "code",
   "execution_count": 11,
   "metadata": {},
   "outputs": [
    {
     "name": "stdout",
     "output_type": "stream",
     "text": [
      "10\n",
      "blue\n"
     ]
    }
   ],
   "source": [
    "class Car():\n",
    "    engine = '4.7L'\n",
    "    def __init__(self, wheels):\n",
    "        self.wheels = wheels\n",
    "        self.color = 'blue' #Default\n",
    "\n",
    "ford = Car(10)\n",
    "\n",
    "print(ford.wheels)\n",
    "print(ford.color)"
   ]
  },
  {
   "cell_type": "markdown",
   "metadata": {},
   "source": [
    "##### Changing Class Attributes <br>\n",
    "<p>Keep in mind there are global class attributes and then there are attributes only available to each class instance which won't effect other classes.</p>"
   ]
  },
  {
   "cell_type": "code",
   "execution_count": 12,
   "metadata": {},
   "outputs": [
    {
     "name": "stdout",
     "output_type": "stream",
     "text": [
      "Before change: blue\n",
      "\n",
      " After changes: White\n"
     ]
    }
   ],
   "source": [
    "#Chaning the default attribute for this example\n",
    "print(f\"Before change: {ford.color}\")\n",
    "\n",
    "ford.color = \"White\"\n",
    "\n",
    "print(f\"\\n After changes: {ford.color}\")"
   ]
  },
  {
   "cell_type": "code",
   "execution_count": null,
   "metadata": {},
   "outputs": [],
   "source": []
  },
  {
   "cell_type": "markdown",
   "metadata": {},
   "source": [
    "##### In-Class Exercise #2 - Add a doors and seats attribute to your 'Car' class then print out two different instances with different doors and seats"
   ]
  },
  {
   "cell_type": "code",
   "execution_count": 13,
   "metadata": {},
   "outputs": [
    {
     "name": "stdout",
     "output_type": "stream",
     "text": [
      "2\n",
      "4\n"
     ]
    }
   ],
   "source": [
    "class Car():\n",
    "    engine = '4.7L'\n",
    "    def __init__(self, wheels, doors, seats):\n",
    "        self.wheels = wheels\n",
    "        self.color = 'blue'\n",
    "        self.doors = doors\n",
    "        self.seats = seats\n",
    "ford = Car(4, 2, 5)\n",
    "honda = Car(4, 4, 7)\n",
    "\n",
    "print(ford.doors)\n",
    "print(honda.doors)"
   ]
  },
  {
   "cell_type": "markdown",
   "metadata": {},
   "source": [
    "## Class Methods <br>\n",
    "<p>While inside of a class, functions are referred to as 'methods'. If you hear someone mention methods, they're speaking about classes. Methods are essentially functions, but only callable on the instances of a class.</p>"
   ]
  },
  {
   "cell_type": "markdown",
   "metadata": {},
   "source": [
    "##### Creating"
   ]
  },
  {
   "cell_type": "code",
   "execution_count": 14,
   "metadata": {},
   "outputs": [],
   "source": [
    "class ShoppingBag():\n",
    "    \"\"\"\n",
    "        The ShoppingBag Class will have handles, capacity, items\n",
    "        to place inside.\n",
    "        \n",
    "        Attributes for the class:\n",
    "            - handles: expect an interger\n",
    "            - capacity: expect string or interger\n",
    "            - items: expect to be a list\n",
    "    \"\"\"\n",
    "    \n",
    "    def __init__(self, handles, capacity, items):\n",
    "        self.handles = handles\n",
    "        self.capacity = capacity\n",
    "        self.items = items\n",
    "        \n",
    "    # Method shows ShoppingBag items\n",
    "    def showShoppingBag(self):\n",
    "        print(\"You have items in your bag!!\")\n",
    "        for item in self.items:\n",
    "            print(item)\n",
    "    \n",
    "    # Method to show capacity of ShoppingBag\n",
    "    def showCapacity(self):\n",
    "        print(f\"Your capacity is: {self.capacity}\")\n",
    "        \n",
    "    # Add Item(s) to the items list for the ShoppingBag\n",
    "    def addToShoppingBag(self):\n",
    "        products = input('What would you like to add?')\n",
    "        self.items.append(products)\n",
    "    \n",
    "    #Change the capacity of the ShoppingBag (dynamically)\n",
    "    def changeBagCapacity(self, capacity):\n",
    "        self.capacity = capacity\n",
    "    \n",
    "    #Increase capacity of the ShoppingBag by a default of 10\n",
    "    def increaseCapacity(self, changed_capacity = 10):\n",
    "        if self.capacity == isinstance(self.capacity, str):\n",
    "            print(\"We can't do that here...\")\n",
    "        else:\n",
    "            self.capacity += changed_capacity"
   ]
  },
  {
   "cell_type": "markdown",
   "metadata": {},
   "source": [
    "##### Calling"
   ]
  },
  {
   "cell_type": "code",
   "execution_count": 15,
   "metadata": {},
   "outputs": [
    {
     "name": "stdout",
     "output_type": "stream",
     "text": [
      "What do you want to do? (add/show or quit)add\n",
      "What would you like to add?rice\n",
      "What do you want to do? (add/show or quit)add\n",
      "What would you like to add?eggs\n",
      "What do you want to do? (add/show or quit)add\n",
      "What would you like to add?juice\n",
      "What do you want to do? (add/show or quit)add\n",
      "What would you like to add?milk\n",
      "What do you want to do? (add/show or quit)show\n",
      "You have items in your bag!!\n",
      "rice\n",
      "eggs\n",
      "juice\n",
      "milk\n",
      "What do you want to do? (add/show or quit)quit\n",
      "You have items in your bag!!\n",
      "rice\n",
      "eggs\n",
      "juice\n",
      "milk\n",
      "thanks for shopping\n"
     ]
    }
   ],
   "source": [
    "# See Above\n",
    "# Create an instance of the ShoppingBag Class\n",
    "aldi_bag = ShoppingBag(2, 10, [])\n",
    "\n",
    "#Create a function to run the shoppingBag(aldi_bag) methods\n",
    "\n",
    "def run():\n",
    "    while True:\n",
    "        response = input('What do you want to do? (add/show or quit)')\n",
    "        \n",
    "        if response.lower() == \"quit\":\n",
    "            aldi_bag.showShoppingBag()\n",
    "            print(\"thanks for shopping\")\n",
    "            break\n",
    "        elif response.lower() == 'add':\n",
    "            aldi_bag.addToShoppingBag()\n",
    "        elif response.lower() == 'show':\n",
    "            aldi_bag.showShoppingBag()\n",
    "\n",
    "run()"
   ]
  },
  {
   "cell_type": "markdown",
   "metadata": {},
   "source": [
    "##### Modifying an Attribute's Value Through a Method"
   ]
  },
  {
   "cell_type": "code",
   "execution_count": 16,
   "metadata": {},
   "outputs": [
    {
     "name": "stdout",
     "output_type": "stream",
     "text": [
      "Your capacity is: 10\n",
      "Capacity AFTER the change...\n",
      "Your capacity is: 50\n"
     ]
    }
   ],
   "source": [
    "# Show Capacity\n",
    "aldi_bag.showCapacity()\n",
    "print(\"Capacity AFTER the change...\")\n",
    "aldi_bag.changeBagCapacity(50)\n",
    "aldi_bag.showCapacity()"
   ]
  },
  {
   "cell_type": "markdown",
   "metadata": {},
   "source": [
    "##### Incrementing an Attribute's Value Through a Method"
   ]
  },
  {
   "cell_type": "code",
   "execution_count": 17,
   "metadata": {},
   "outputs": [
    {
     "name": "stdout",
     "output_type": "stream",
     "text": [
      "Your capacity is: 50\n",
      "after increase\n",
      "Your capacity is: 60\n"
     ]
    }
   ],
   "source": [
    "aldi_bag.showCapacity()\n",
    "print(\"after increase\")\n",
    "aldi_bag.increaseCapacity()\n",
    "aldi_bag.showCapacity()"
   ]
  },
  {
   "cell_type": "markdown",
   "metadata": {},
   "source": [
    "##### In-Class Exercise #3 - Add a method that takes in three parameters of year, doors and seats and prints out a formatted print statement with make, model, year, seats, and doors"
   ]
  },
  {
   "cell_type": "code",
   "execution_count": 23,
   "metadata": {},
   "outputs": [
    {
     "name": "stdout",
     "output_type": "stream",
     "text": [
      "This car is from 2020 and is a Ford Mustang and has 2 doors and 5 seats.\n"
     ]
    }
   ],
   "source": [
    "# Create class with 2 paramters inside of the __init__ which are make and model\n",
    "class Car():\n",
    "    def __init__(self, make, model):\n",
    "        self.make = make\n",
    "        self.model = model\n",
    "# Inside of the Car class create a method that has 4 parameter in total (self,year,door,seats)\n",
    "    def info(self, year, door, seats):\n",
    "# Output: This car is from 2019 and is a Ford Expolorer and has 4 doors and 5 seats\n",
    "        print(f\"This car is from {year} and is a {self.make} {self.model} and has {door} doors and {seats} seats.\")\n",
    "ford_car = Car('Ford', 'Mustang')\n",
    "ford_car.info(2020, 2, 5)\n"
   ]
  },
  {
   "cell_type": "markdown",
   "metadata": {},
   "source": [
    "## Inheritance <br>\n",
    "<p>You can create a child-parent relationship between two classes by using inheritance. What this allows you to do is have overriding methods, but also inherit traits from the parent class. Think of it as an actual parent and child, the child will inherit the parent's genes, as will the classes in OOP</p>"
   ]
  },
  {
   "cell_type": "markdown",
   "metadata": {},
   "source": [
    "##### Syntax for Inheriting from a Parent Class"
   ]
  },
  {
   "cell_type": "code",
   "execution_count": 11,
   "metadata": {},
   "outputs": [
    {
     "name": "stdout",
     "output_type": "stream",
     "text": [
      "The dog has 15mph in speed and 9.8\n",
      "bark\n",
      "Make some generic sound\n",
      "9.8\n"
     ]
    }
   ],
   "source": [
    "# Creatation of parent class -- Animal\n",
    "class Animal():\n",
    "    ACCELERATION = 9.8\n",
    "    \n",
    "    def __init__(self, name , species, legs = 4):\n",
    "        self.name = name\n",
    "        self.species = species\n",
    "        self.legs = legs\n",
    "    \n",
    "    #Generic Parent (Animal) Method -- NO OVERRIDE YET\n",
    "    def makeSound(self):\n",
    "        print(\"Make some generic sound\")\n",
    "        \n",
    "#Creation of our child class -- Dog\n",
    "class Dog(Animal):\n",
    "    SPEED = 15\n",
    "    \n",
    "    def printInfo(self):\n",
    "        print(f\"The dog has {self.SPEED}mph in speed and {self.ACCELERATION}\")\n",
    "        \n",
    "# Creation of Gandchild Class - Mut\n",
    "class Mut(Dog):\n",
    "    COLOR = 'black & brown'\n",
    "    #Overriding of the ANIMAL Class __init__ method (by way of using the Dog Class)\n",
    "    def __init__(self, name, species, eye_color, legs = 4):\n",
    "        Dog.__init__(self, name, species, legs)\n",
    "        self.eye_color = eye_color\n",
    "        \n",
    "    #Override the make sound method (coming from Animal Class)\n",
    "    def makeSound(self):\n",
    "        noise = 'bark'\n",
    "        return noise\n",
    "        \n",
    "lassie = Dog(\"Lassie\", \"Dog\")\n",
    "lassie.printInfo()\n",
    "\n",
    "basic_animal = Animal('Generic Animal Name', 'Generic Animal Species')\n",
    "buster = Mut('Buster', 'mut', 'green')\n",
    "print(buster.makeSound())\n",
    "basic_animal.makeSound()\n",
    "print(buster.ACCELERATION)"
   ]
  },
  {
   "cell_type": "markdown",
   "metadata": {},
   "source": [
    "##### The \\__init\\__() Method for a Child Class - super()"
   ]
  },
  {
   "cell_type": "code",
   "execution_count": 14,
   "metadata": {
    "scrolled": true
   },
   "outputs": [
    {
     "name": "stdout",
     "output_type": "stream",
     "text": [
      "Help on class Mut in module __main__:\n",
      "\n",
      "class Mut(Dog)\n",
      " |  Mut(name, species, eye_color, legs=4)\n",
      " |  \n",
      " |  Method resolution order:\n",
      " |      Mut\n",
      " |      Dog\n",
      " |      Animal\n",
      " |      builtins.object\n",
      " |  \n",
      " |  Methods defined here:\n",
      " |  \n",
      " |  __init__(self, name, species, eye_color, legs=4)\n",
      " |      Initialize self.  See help(type(self)) for accurate signature.\n",
      " |  \n",
      " |  makeSound(self)\n",
      " |      #Override the make sound method (coming from Animal Class)\n",
      " |  \n",
      " |  ----------------------------------------------------------------------\n",
      " |  Data and other attributes defined here:\n",
      " |  \n",
      " |  COLOR = 'black & brown'\n",
      " |  \n",
      " |  ----------------------------------------------------------------------\n",
      " |  Methods inherited from Dog:\n",
      " |  \n",
      " |  printInfo(self)\n",
      " |  \n",
      " |  ----------------------------------------------------------------------\n",
      " |  Data and other attributes inherited from Dog:\n",
      " |  \n",
      " |  SPEED = 15\n",
      " |  \n",
      " |  ----------------------------------------------------------------------\n",
      " |  Data descriptors inherited from Animal:\n",
      " |  \n",
      " |  __dict__\n",
      " |      dictionary for instance variables (if defined)\n",
      " |  \n",
      " |  __weakref__\n",
      " |      list of weak references to the object (if defined)\n",
      " |  \n",
      " |  ----------------------------------------------------------------------\n",
      " |  Data and other attributes inherited from Animal:\n",
      " |  \n",
      " |  ACCELERATION = 9.8\n",
      "\n"
     ]
    }
   ],
   "source": [
    "class Mut(Dog):\n",
    "    COLOR = 'black & brown'\n",
    "    \n",
    "    #Override the Animal Class __init__ method (by way of the Dog Class)\n",
    "    def __init__(self, name, species, eye_color, legs = 4):\n",
    "        super(). __init__(name, species, legs)\n",
    "        self.eye_color = eye_color\n",
    "    \n",
    "    #Override the make sound method (coming from Animal Class)\n",
    "    def makeSound(self):\n",
    "        noise = 'bark'\n",
    "        return noise\n",
    "    \n",
    "help(Mut)"
   ]
  },
  {
   "cell_type": "markdown",
   "metadata": {},
   "source": [
    "##### Defining Attributes and Methods for the Child Class"
   ]
  },
  {
   "cell_type": "code",
   "execution_count": null,
   "metadata": {},
   "outputs": [],
   "source": [
    "# See Above"
   ]
  },
  {
   "cell_type": "markdown",
   "metadata": {},
   "source": [
    "##### Method Overriding"
   ]
  },
  {
   "cell_type": "code",
   "execution_count": null,
   "metadata": {},
   "outputs": [],
   "source": [
    "# See Above"
   ]
  },
  {
   "cell_type": "markdown",
   "metadata": {},
   "source": [
    "## Classes as Attributes <br>\n",
    "<p>Classes can also be used as attributes within another class. This is useful in situations where you need to keep variables locally stored, instead of globally stored.</p>"
   ]
  },
  {
   "cell_type": "code",
   "execution_count": 17,
   "metadata": {
    "scrolled": true
   },
   "outputs": [
    {
     "name": "stdout",
     "output_type": "stream",
     "text": [
      "20\n",
      "2020 Tesla Model 3 7.8\n"
     ]
    }
   ],
   "source": [
    "class Battery():\n",
    "    VOLTS = 7.8\n",
    "    \n",
    "    def __init__(self, cells):\n",
    "        self.cells = cells\n",
    "    \n",
    "class Car():\n",
    "    def __init__(self, year, make, model, battery):\n",
    "        self.year = year\n",
    "        self.make = make\n",
    "        self.model = model\n",
    "        self.battery = battery\n",
    "    \n",
    "    def printInfo(self):\n",
    "        return f\"{self.year} {self.make} {self.model} {self.battery.VOLTS}\"\n",
    "    \n",
    "battery = Battery(20)\n",
    "tesla = Car(2020, 'Tesla', 'Model 3', battery)\n",
    "\n",
    "print(tesla.battery.cells)\n",
    "print(tesla.printInfo())"
   ]
  },
  {
   "cell_type": "markdown",
   "metadata": {},
   "source": [
    "### White Board Problem"
   ]
  },
  {
   "cell_type": "code",
   "execution_count": null,
   "metadata": {},
   "outputs": [],
   "source": []
  },
  {
   "cell_type": "markdown",
   "metadata": {},
   "source": [
    "# Exercises"
   ]
  },
  {
   "cell_type": "markdown",
   "metadata": {},
   "source": [
    "### Exercise 1 - Turn the shopping cart program from yesterday into an object-oriented program\n",
    "\n",
    "The comments in the cell below are there as a guide for thinking about the problem. However, if you feel a different way is best for you and your own thought process, please do what feels best for you by all means."
   ]
  },
  {
   "cell_type": "code",
   "execution_count": 9,
   "metadata": {},
   "outputs": [
    {
     "name": "stdout",
     "output_type": "stream",
     "text": [
      "What do you want to do? (add/remove or quit)jj\n",
      "Opps! That didn't work! Please try again!\n",
      "What do you want to do? (add/remove or quit)awdaw\n",
      "Opps! That didn't work! Please try again!\n",
      "What do you want to do? (add/remove or quit)quit\n",
      "You have the following items in your cart!!\n",
      "Thanks for shopping!\n"
     ]
    }
   ],
   "source": [
    "# Create a class called cart that retains items and has methods to add, remove, and show\n",
    "class Cart():\n",
    "    \n",
    "    def __init__(self, items):\n",
    "        self.items = items\n",
    "        \n",
    "    #Method to Add\n",
    "    def addToCart(self):\n",
    "        while True:\n",
    "            products = input(\"What would you like to add? (Say 'quit' to not add anything)\")\n",
    "            if products.lower() != 'quit':\n",
    "                self.items.append(products)\n",
    "                print(f\"You added {products} to your cart!\")\n",
    "            elif products.lower == 'quit':\n",
    "                continue\n",
    "            more = input(\"Would you like to add more items? \\n (Say 'more' to add items or 'quit' to continue!)\")\n",
    "            while (more != \"more\") and (more != \"quit\"):\n",
    "                more = input(\"Please type a valid response. Please type 'more' to add items or 'quit' to continue \")\n",
    "            if more.lower() == 'more':\n",
    "                continue\n",
    "            elif more.lower() == 'quit':\n",
    "                break\n",
    "    #Method to Remove\n",
    "    def removeFromCart(self):\n",
    "        while True:\n",
    "            delete = input(\"What would you like to remove? (Say 'quit' to not delete anything.) \")\n",
    "            if delete.lower() == 'quit':\n",
    "                break\n",
    "            elif delete.lower() != 'quit':\n",
    "                if delete.lower() not in self.items:\n",
    "                    print(\"\\n Opps! That's not in your cart! Please try again!\")\n",
    "                    continue\n",
    "                elif delete in self.items:\n",
    "                    for item in self.items:\n",
    "                        if item == delete:\n",
    "                            self.items.remove(delete)\n",
    "                    print(f\"You removed {delete} from your cart!\")\n",
    "    #Method to Show\n",
    "    def showCart(self):\n",
    "        print(\"You have the following items in your cart!!\")\n",
    "        for item in self.items:\n",
    "            print(item)\n",
    "\n",
    "#Initiating an Instance\n",
    "your_bag = Cart([])\n",
    "\n",
    "#Calling\n",
    "def run():\n",
    "    while True:\n",
    "        response = input('What do you want to do? (add/remove or quit)')\n",
    "        if response.lower() != 'quit' and response.lower() != 'add' and response != 'remove':\n",
    "            print(\"Opps! That didn't work! Please try again!\")\n",
    "            continue\n",
    "        elif response.lower() == \"quit\":\n",
    "            your_bag.showCart()\n",
    "            print(\"Thanks for shopping!\")\n",
    "            break\n",
    "        elif response.lower() == 'add':\n",
    "            your_bag.addToCart()\n",
    "        elif response.lower() == 'remove':\n",
    "            your_bag.removeFromCart()\n",
    "\n",
    "#Running Call         \n",
    "run()"
   ]
  },
  {
   "cell_type": "markdown",
   "metadata": {},
   "source": [
    "### Exercise 2 - Write a Python class which has two methods get_String and print_String. get_String accept a string from the user and print_String print the string in upper case"
   ]
  },
  {
   "cell_type": "code",
   "execution_count": 2,
   "metadata": {},
   "outputs": [
    {
     "name": "stdout",
     "output_type": "stream",
     "text": [
      "Type in any phrase. hello\n",
      "HELLO\n"
     ]
    }
   ],
   "source": [
    "class Python():\n",
    "    def get_String(self):\n",
    "        return input(\"Type in any phrase. \")\n",
    "        \n",
    "    def print_String(self, phrase):\n",
    "        print(phrase.upper())\n",
    "        \n",
    "\n",
    "def run():\n",
    "    phrase = Python().get_String()\n",
    "    Python().print_String(phrase)\n",
    "\n",
    "run()"
   ]
  },
  {
   "cell_type": "code",
   "execution_count": null,
   "metadata": {},
   "outputs": [],
   "source": []
  }
 ],
 "metadata": {
  "kernelspec": {
   "display_name": "Python 3",
   "language": "python",
   "name": "python3"
  },
  "language_info": {
   "codemirror_mode": {
    "name": "ipython",
    "version": 3
   },
   "file_extension": ".py",
   "mimetype": "text/x-python",
   "name": "python",
   "nbconvert_exporter": "python",
   "pygments_lexer": "ipython3",
   "version": "3.8.8"
  }
 },
 "nbformat": 4,
 "nbformat_minor": 2
}
